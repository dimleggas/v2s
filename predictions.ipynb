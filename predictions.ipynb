{
 "cells": [
  {
   "cell_type": "code",
   "execution_count": 5,
   "metadata": {},
   "outputs": [],
   "source": [
    "import numpy as np\n",
    "import tensorflow as tf\n",
    "import matplotlib.pyplot as plt"
   ]
  },
  {
   "cell_type": "code",
   "execution_count": 76,
   "metadata": {},
   "outputs": [],
   "source": [
    "aud = np.load('data/fireworks/aud_feats/video_00054.npz')['features']"
   ]
  },
  {
   "cell_type": "code",
   "execution_count": 80,
   "metadata": {},
   "outputs": [
    {
     "data": {
      "text/plain": [
       "(159744, 1)"
      ]
     },
     "execution_count": 80,
     "metadata": {},
     "output_type": "execute_result"
    }
   ],
   "source": [
    "aud.mean(0).reshape((-1, 1)).shape"
   ]
  },
  {
   "cell_type": "code",
   "execution_count": 72,
   "metadata": {},
   "outputs": [],
   "source": [
    "vid = np.load('audio/fireworks/vid_feats/video_00054.npz')['features']"
   ]
  },
  {
   "cell_type": "code",
   "execution_count": 73,
   "metadata": {},
   "outputs": [
    {
     "data": {
      "text/plain": [
       "(156, 4096)"
      ]
     },
     "execution_count": 73,
     "metadata": {},
     "output_type": "execute_result"
    }
   ],
   "source": [
    "vid.shape"
   ]
  },
  {
   "cell_type": "code",
   "execution_count": 27,
   "metadata": {},
   "outputs": [],
   "source": [
    "def np_to_tfrecords(X, Y, file_path_prefix, verbose=True):\n",
    "    def _dtype_feature(ndarray):\n",
    "        assert isinstance(ndarray, np.ndarray)\n",
    "        dtype_ = ndarray.dtype\n",
    "        if dtype_ == np.float64 or dtype_ == np.float32:\n",
    "            return lambda array: tf.train.Feature(float_list=tf.train.FloatList(value=array))\n",
    "        elif dtype_ == np.int64:\n",
    "            return lambda array: tf.train.Feature(int64_list=tf.train.Int64List(value=array))\n",
    "        else:  \n",
    "            raise ValueError(\"The input should be numpy ndarray. \\\n",
    "                               Instaed got {}\".format(ndarray.dtype))\n",
    "            \n",
    "    assert isinstance(X, np.ndarray)\n",
    "    assert len(X.shape) == 2  # If X has a higher rank, \n",
    "                               # it should be rshape before fed to this function.\n",
    "    assert isinstance(Y, np.ndarray) or Y is None\n",
    "    \n",
    "    # load appropriate tf.train.Feature class depending on dtype\n",
    "    dtype_feature_x = _dtype_feature(X)\n",
    "    if Y is not None:\n",
    "        assert X.shape[0] == Y.shape[0]\n",
    "        assert len(Y.shape) == 2\n",
    "        dtype_feature_y = _dtype_feature(Y)            \n",
    "    \n",
    "    # Generate tfrecord writer\n",
    "    result_tf_file = file_path_prefix + '.tfrecord'\n",
    "    writer = tf.python_io.TFRecordWriter(result_tf_file)\n",
    "    if verbose:\n",
    "        print \"Serializing {:d} examples into {}\".format(X.shape[0], result_tf_file)\n",
    "        \n",
    "    # iterate over each sample,\n",
    "    # and serialize it as ProtoBuf.\n",
    "    for idx in range(X.shape[0]):\n",
    "        x = X[idx]\n",
    "        if Y is not None:\n",
    "            y = Y[idx]\n",
    "        \n",
    "        d_feature = {}\n",
    "        d_feature['X'] = dtype_feature_x(x)\n",
    "        if Y is not None:\n",
    "            d_feature['Y'] = dtype_feature_y(y)\n",
    "            \n",
    "        features = tf.train.Features(feature=d_feature)\n",
    "        example = tf.train.Example(features=features)\n",
    "        serialized = example.SerializeToString()\n",
    "        writer.write(serialized)\n",
    "    \n",
    "    if verbose:\n",
    "        print \"Writing {} done!\".format(result_tf_file)"
   ]
  },
  {
   "cell_type": "code",
   "execution_count": 28,
   "metadata": {},
   "outputs": [
    {
     "name": "stdout",
     "output_type": "stream",
     "text": [
      "Serializing 64 examples into ./data/drums/tfr/video_00.tfrecord\n",
      "Writing ./data/drums/tfr/video_00.tfrecord done!\n",
      "Serializing 64 examples into ./data/drums/tfr/video_01.tfrecord\n",
      "Writing ./data/drums/tfr/video_01.tfrecord done!\n",
      "Serializing 64 examples into ./data/drums/tfr/video_02.tfrecord\n",
      "Writing ./data/drums/tfr/video_02.tfrecord done!\n",
      "Serializing 64 examples into ./data/drums/tfr/video_03.tfrecord\n",
      "Writing ./data/drums/tfr/video_03.tfrecord done!\n",
      "Serializing 64 examples into ./data/drums/tfr/video_04.tfrecord\n",
      "Writing ./data/drums/tfr/video_04.tfrecord done!\n",
      "Serializing 64 examples into ./data/drums/tfr/video_05.tfrecord\n",
      "Writing ./data/drums/tfr/video_05.tfrecord done!\n",
      "Serializing 64 examples into ./data/drums/tfr/video_06.tfrecord\n",
      "Writing ./data/drums/tfr/video_06.tfrecord done!\n",
      "Serializing 64 examples into ./data/drums/tfr/video_07.tfrecord\n",
      "Writing ./data/drums/tfr/video_07.tfrecord done!\n",
      "Serializing 64 examples into ./data/drums/tfr/video_08.tfrecord\n",
      "Writing ./data/drums/tfr/video_08.tfrecord done!\n",
      "Serializing 64 examples into ./data/drums/tfr/video_09.tfrecord\n",
      "Writing ./data/drums/tfr/video_09.tfrecord done!\n",
      "Serializing 64 examples into ./data/drums/tfr/video_10.tfrecord\n",
      "Writing ./data/drums/tfr/video_10.tfrecord done!\n",
      "Serializing 64 examples into ./data/drums/tfr/video_11.tfrecord\n",
      "Writing ./data/drums/tfr/video_11.tfrecord done!\n",
      "Serializing 64 examples into ./data/drums/tfr/video_12.tfrecord\n",
      "Writing ./data/drums/tfr/video_12.tfrecord done!\n",
      "Serializing 64 examples into ./data/drums/tfr/video_13.tfrecord\n",
      "Writing ./data/drums/tfr/video_13.tfrecord done!\n",
      "Serializing 64 examples into ./data/drums/tfr/video_14.tfrecord\n",
      "Writing ./data/drums/tfr/video_14.tfrecord done!\n",
      "Serializing 64 examples into ./data/drums/tfr/video_15.tfrecord\n",
      "Writing ./data/drums/tfr/video_15.tfrecord done!\n",
      "Serializing 64 examples into ./data/drums/tfr/video_16.tfrecord\n",
      "Writing ./data/drums/tfr/video_16.tfrecord done!\n",
      "Serializing 64 examples into ./data/drums/tfr/video_17.tfrecord\n",
      "Writing ./data/drums/tfr/video_17.tfrecord done!\n",
      "Serializing 64 examples into ./data/drums/tfr/video_18.tfrecord\n",
      "Writing ./data/drums/tfr/video_18.tfrecord done!\n",
      "Serializing 64 examples into ./data/drums/tfr/video_19.tfrecord\n",
      "Writing ./data/drums/tfr/video_19.tfrecord done!\n",
      "Serializing 64 examples into ./data/drums/tfr/video_20.tfrecord\n",
      "Writing ./data/drums/tfr/video_20.tfrecord done!\n",
      "Serializing 64 examples into ./data/drums/tfr/video_21.tfrecord\n",
      "Writing ./data/drums/tfr/video_21.tfrecord done!\n",
      "Serializing 64 examples into ./data/drums/tfr/video_22.tfrecord\n",
      "Writing ./data/drums/tfr/video_22.tfrecord done!\n",
      "Serializing 64 examples into ./data/drums/tfr/video_23.tfrecord\n",
      "Writing ./data/drums/tfr/video_23.tfrecord done!\n",
      "Serializing 64 examples into ./data/drums/tfr/video_24.tfrecord\n",
      "Writing ./data/drums/tfr/video_24.tfrecord done!\n",
      "Serializing 64 examples into ./data/drums/tfr/video_25.tfrecord\n",
      "Writing ./data/drums/tfr/video_25.tfrecord done!\n",
      "Serializing 64 examples into ./data/drums/tfr/video_26.tfrecord\n",
      "Writing ./data/drums/tfr/video_26.tfrecord done!\n",
      "Serializing 64 examples into ./data/drums/tfr/video_27.tfrecord\n",
      "Writing ./data/drums/tfr/video_27.tfrecord done!\n",
      "Serializing 64 examples into ./data/drums/tfr/video_28.tfrecord\n",
      "Writing ./data/drums/tfr/video_28.tfrecord done!\n",
      "Serializing 64 examples into ./data/drums/tfr/video_29.tfrecord\n",
      "Writing ./data/drums/tfr/video_29.tfrecord done!\n",
      "Serializing 64 examples into ./data/drums/tfr/video_30.tfrecord\n",
      "Writing ./data/drums/tfr/video_30.tfrecord done!\n",
      "Serializing 64 examples into ./data/drums/tfr/video_31.tfrecord\n",
      "Writing ./data/drums/tfr/video_31.tfrecord done!\n",
      "Serializing 64 examples into ./data/drums/tfr/video_32.tfrecord\n",
      "Writing ./data/drums/tfr/video_32.tfrecord done!\n",
      "Serializing 64 examples into ./data/drums/tfr/video_33.tfrecord\n",
      "Writing ./data/drums/tfr/video_33.tfrecord done!\n",
      "Serializing 64 examples into ./data/drums/tfr/video_34.tfrecord\n",
      "Writing ./data/drums/tfr/video_34.tfrecord done!\n",
      "Serializing 64 examples into ./data/drums/tfr/video_35.tfrecord\n",
      "Writing ./data/drums/tfr/video_35.tfrecord done!\n",
      "Serializing 64 examples into ./data/drums/tfr/video_36.tfrecord\n",
      "Writing ./data/drums/tfr/video_36.tfrecord done!\n",
      "Serializing 64 examples into ./data/drums/tfr/video_37.tfrecord\n",
      "Writing ./data/drums/tfr/video_37.tfrecord done!\n",
      "Serializing 64 examples into ./data/drums/tfr/video_38.tfrecord\n",
      "Writing ./data/drums/tfr/video_38.tfrecord done!\n",
      "Serializing 64 examples into ./data/drums/tfr/video_39.tfrecord\n",
      "Writing ./data/drums/tfr/video_39.tfrecord done!\n",
      "Serializing 64 examples into ./data/drums/tfr/audio_00.tfrecord\n",
      "Writing ./data/drums/tfr/audio_00.tfrecord done!\n",
      "Serializing 64 examples into ./data/drums/tfr/audio_01.tfrecord\n",
      "Writing ./data/drums/tfr/audio_01.tfrecord done!\n",
      "Serializing 64 examples into ./data/drums/tfr/audio_02.tfrecord\n",
      "Writing ./data/drums/tfr/audio_02.tfrecord done!\n",
      "Serializing 64 examples into ./data/drums/tfr/audio_03.tfrecord\n",
      "Writing ./data/drums/tfr/audio_03.tfrecord done!\n",
      "Serializing 64 examples into ./data/drums/tfr/audio_04.tfrecord\n",
      "Writing ./data/drums/tfr/audio_04.tfrecord done!\n",
      "Serializing 64 examples into ./data/drums/tfr/audio_05.tfrecord\n",
      "Writing ./data/drums/tfr/audio_05.tfrecord done!\n",
      "Serializing 64 examples into ./data/drums/tfr/audio_06.tfrecord\n",
      "Writing ./data/drums/tfr/audio_06.tfrecord done!\n",
      "Serializing 64 examples into ./data/drums/tfr/audio_07.tfrecord\n",
      "Writing ./data/drums/tfr/audio_07.tfrecord done!\n",
      "Serializing 64 examples into ./data/drums/tfr/audio_08.tfrecord\n",
      "Writing ./data/drums/tfr/audio_08.tfrecord done!\n",
      "Serializing 64 examples into ./data/drums/tfr/audio_09.tfrecord\n",
      "Writing ./data/drums/tfr/audio_09.tfrecord done!\n",
      "Serializing 64 examples into ./data/drums/tfr/audio_10.tfrecord\n",
      "Writing ./data/drums/tfr/audio_10.tfrecord done!\n",
      "Serializing 64 examples into ./data/drums/tfr/audio_11.tfrecord\n",
      "Writing ./data/drums/tfr/audio_11.tfrecord done!\n",
      "Serializing 64 examples into ./data/drums/tfr/audio_12.tfrecord\n",
      "Writing ./data/drums/tfr/audio_12.tfrecord done!\n",
      "Serializing 64 examples into ./data/drums/tfr/audio_13.tfrecord\n",
      "Writing ./data/drums/tfr/audio_13.tfrecord done!\n",
      "Serializing 64 examples into ./data/drums/tfr/audio_14.tfrecord\n",
      "Writing ./data/drums/tfr/audio_14.tfrecord done!\n",
      "Serializing 64 examples into ./data/drums/tfr/audio_15.tfrecord\n",
      "Writing ./data/drums/tfr/audio_15.tfrecord done!\n",
      "Serializing 64 examples into ./data/drums/tfr/audio_16.tfrecord\n",
      "Writing ./data/drums/tfr/audio_16.tfrecord done!\n",
      "Serializing 64 examples into ./data/drums/tfr/audio_17.tfrecord\n",
      "Writing ./data/drums/tfr/audio_17.tfrecord done!\n",
      "Serializing 64 examples into ./data/drums/tfr/audio_18.tfrecord\n",
      "Writing ./data/drums/tfr/audio_18.tfrecord done!\n",
      "Serializing 64 examples into ./data/drums/tfr/audio_19.tfrecord\n",
      "Writing ./data/drums/tfr/audio_19.tfrecord done!\n",
      "Serializing 64 examples into ./data/drums/tfr/audio_20.tfrecord\n",
      "Writing ./data/drums/tfr/audio_20.tfrecord done!\n",
      "Serializing 64 examples into ./data/drums/tfr/audio_21.tfrecord\n",
      "Writing ./data/drums/tfr/audio_21.tfrecord done!\n",
      "Serializing 64 examples into ./data/drums/tfr/audio_22.tfrecord\n",
      "Writing ./data/drums/tfr/audio_22.tfrecord done!\n",
      "Serializing 64 examples into ./data/drums/tfr/audio_23.tfrecord\n",
      "Writing ./data/drums/tfr/audio_23.tfrecord done!\n",
      "Serializing 64 examples into ./data/drums/tfr/audio_24.tfrecord\n",
      "Writing ./data/drums/tfr/audio_24.tfrecord done!\n",
      "Serializing 64 examples into ./data/drums/tfr/audio_25.tfrecord\n",
      "Writing ./data/drums/tfr/audio_25.tfrecord done!\n",
      "Serializing 64 examples into ./data/drums/tfr/audio_26.tfrecord\n",
      "Writing ./data/drums/tfr/audio_26.tfrecord done!\n",
      "Serializing 64 examples into ./data/drums/tfr/audio_27.tfrecord\n",
      "Writing ./data/drums/tfr/audio_27.tfrecord done!\n",
      "Serializing 64 examples into ./data/drums/tfr/audio_28.tfrecord\n",
      "Writing ./data/drums/tfr/audio_28.tfrecord done!\n",
      "Serializing 64 examples into ./data/drums/tfr/audio_29.tfrecord\n",
      "Writing ./data/drums/tfr/audio_29.tfrecord done!\n",
      "Serializing 64 examples into ./data/drums/tfr/audio_30.tfrecord\n",
      "Writing ./data/drums/tfr/audio_30.tfrecord done!\n",
      "Serializing 64 examples into ./data/drums/tfr/audio_31.tfrecord\n",
      "Writing ./data/drums/tfr/audio_31.tfrecord done!\n",
      "Serializing 64 examples into ./data/drums/tfr/audio_32.tfrecord\n"
     ]
    },
    {
     "name": "stdout",
     "output_type": "stream",
     "text": [
      "Writing ./data/drums/tfr/audio_32.tfrecord done!\n",
      "Serializing 64 examples into ./data/drums/tfr/audio_33.tfrecord\n",
      "Writing ./data/drums/tfr/audio_33.tfrecord done!\n",
      "Serializing 64 examples into ./data/drums/tfr/audio_34.tfrecord\n",
      "Writing ./data/drums/tfr/audio_34.tfrecord done!\n",
      "Serializing 64 examples into ./data/drums/tfr/audio_35.tfrecord\n",
      "Writing ./data/drums/tfr/audio_35.tfrecord done!\n",
      "Serializing 64 examples into ./data/drums/tfr/audio_36.tfrecord\n",
      "Writing ./data/drums/tfr/audio_36.tfrecord done!\n",
      "Serializing 64 examples into ./data/drums/tfr/audio_37.tfrecord\n",
      "Writing ./data/drums/tfr/audio_37.tfrecord done!\n",
      "Serializing 64 examples into ./data/drums/tfr/audio_38.tfrecord\n",
      "Writing ./data/drums/tfr/audio_38.tfrecord done!\n",
      "Serializing 64 examples into ./data/drums/tfr/audio_39.tfrecord\n",
      "Writing ./data/drums/tfr/audio_39.tfrecord done!\n"
     ]
    }
   ],
   "source": [
    "dataset = 'drums'\n",
    "num_to_read = 2606\n",
    "\n",
    "for i in range(num_to_read / 64):\n",
    "    batch = np.zeros((64, 16*4096))\n",
    "    for j in range(64):\n",
    "        vid = np.load('data/'+dataset+'/vid_feats/video_%05d.npz'%(64*i+j))['features']\n",
    "        batch[j] = vid[32:48].ravel()\n",
    "    np_to_tfrecords(batch, None, './data/'+dataset+'/tfr/video_%02d'%i, verbose=True)\n",
    "\n",
    "for i in range(num_to_read / 64):  \n",
    "    batch = np.zeros((64, 16384))\n",
    "    for j in range(64):\n",
    "        aud = np.load('data/'+dataset+'/aud_feats/video_%05d.npz'%(64*i+j))['features']\n",
    "        batch[j] = aud.mean(0)[2*16384:3*16384]\n",
    "    np_to_tfrecords(batch, None, './data/'+dataset+'/tfr/audio_%02d'%i, verbose=True)"
   ]
  },
  {
   "cell_type": "code",
   "execution_count": 140,
   "metadata": {},
   "outputs": [],
   "source": [
    "vid = np.load('data/snoring/vid_feats/video_00055.npz')['features'][16:32]"
   ]
  },
  {
   "cell_type": "code",
   "execution_count": 8,
   "metadata": {},
   "outputs": [],
   "source": [
    "from scipy.io import wavfile"
   ]
  },
  {
   "cell_type": "code",
   "execution_count": 23,
   "metadata": {},
   "outputs": [],
   "source": [
    "aud = np.load('data/snoring/aud_feats/video_00060.npz')['features'][0][16384:2*16384]\n",
    "wavfile.write('test.wav', 16000, aud.astype(np.float32))"
   ]
  },
  {
   "cell_type": "code",
   "execution_count": 2,
   "metadata": {},
   "outputs": [],
   "source": [
    "test=np.loadtxt('generated_at_epoch3200.csv', delimiter=',')"
   ]
  },
  {
   "cell_type": "code",
   "execution_count": 3,
   "metadata": {},
   "outputs": [
    {
     "data": {
      "text/plain": [
       "(16384,)"
      ]
     },
     "execution_count": 3,
     "metadata": {},
     "output_type": "execute_result"
    }
   ],
   "source": [
    "test[0].shape"
   ]
  },
  {
   "cell_type": "code",
   "execution_count": 9,
   "metadata": {},
   "outputs": [],
   "source": [
    "wavfile.write('test_drum2.wav', 16000, test[0].astype(np.float32))"
   ]
  },
  {
   "cell_type": "code",
   "execution_count": null,
   "metadata": {},
   "outputs": [],
   "source": []
  }
 ],
 "metadata": {
  "kernelspec": {
   "display_name": "Python 2",
   "language": "python",
   "name": "python2"
  },
  "language_info": {
   "codemirror_mode": {
    "name": "ipython",
    "version": 2
   },
   "file_extension": ".py",
   "mimetype": "text/x-python",
   "name": "python",
   "nbconvert_exporter": "python",
   "pygments_lexer": "ipython2",
   "version": "2.7.15"
  }
 },
 "nbformat": 4,
 "nbformat_minor": 2
}
